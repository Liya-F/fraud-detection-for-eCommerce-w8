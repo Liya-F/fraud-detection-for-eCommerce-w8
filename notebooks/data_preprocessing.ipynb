{
 "cells": [
  {
   "cell_type": "code",
   "execution_count": 3,
   "id": "2c625130",
   "metadata": {},
   "outputs": [],
   "source": [
    "import sys\n",
    "import os\n",
    "sys.path.append(os.path.abspath(\"../src\"))\n",
    "\n",
    "from data.data_loader import DataLoader"
   ]
  },
  {
   "cell_type": "code",
   "execution_count": 4,
   "id": "4d36929c",
   "metadata": {},
   "outputs": [],
   "source": [
    "fraud_data_path = \"../data/Fraud_Data.csv\"\n",
    "ip_country_path = \"../data/IpAddress_to_Country.csv\""
   ]
  },
  {
   "cell_type": "code",
   "execution_count": 6,
   "id": "1668affc",
   "metadata": {},
   "outputs": [],
   "source": [
    "# Create DataLoader instance\n",
    "loader = DataLoader(fraud_data_path, ip_country_path)\n",
    "# Load data\n",
    "fraud_df, ip_country_df = loader.load_data()"
   ]
  },
  {
   "cell_type": "code",
   "execution_count": 7,
   "id": "2cafa0eb",
   "metadata": {},
   "outputs": [
    {
     "name": "stdout",
     "output_type": "stream",
     "text": [
      "Missing values in Fraud Data:\n",
      "user_id           0\n",
      "signup_time       0\n",
      "purchase_time     0\n",
      "purchase_value    0\n",
      "device_id         0\n",
      "source            0\n",
      "browser           0\n",
      "sex               0\n",
      "age               0\n",
      "ip_address        0\n",
      "class             0\n",
      "dtype: int64\n",
      "\n",
      "Missing values in IP Address to Country Data:\n",
      "lower_bound_ip_address    0\n",
      "upper_bound_ip_address    0\n",
      "country                   0\n",
      "dtype: int64\n"
     ]
    }
   ],
   "source": [
    "# Check for missing values\n",
    "loader.check_missing_values()"
   ]
  },
  {
   "cell_type": "code",
   "execution_count": null,
   "id": "7fc0a431",
   "metadata": {},
   "outputs": [
    {
     "name": "stdout",
     "output_type": "stream",
     "text": [
      "Missing values handled (rows with missing data dropped).\n"
     ]
    }
   ],
   "source": [
    "# Handle missing values\n",
    "fraud_df, ip_country_df = loader.handle_missing_values()"
   ]
  }
 ],
 "metadata": {
  "kernelspec": {
   "display_name": ".venv",
   "language": "python",
   "name": "python3"
  },
  "language_info": {
   "codemirror_mode": {
    "name": "ipython",
    "version": 3
   },
   "file_extension": ".py",
   "mimetype": "text/x-python",
   "name": "python",
   "nbconvert_exporter": "python",
   "pygments_lexer": "ipython3",
   "version": "3.12.3"
  }
 },
 "nbformat": 4,
 "nbformat_minor": 5
}
